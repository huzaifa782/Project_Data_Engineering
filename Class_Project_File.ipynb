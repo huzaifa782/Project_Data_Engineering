{
 "cells": [
  {
   "cell_type": "code",
   "execution_count": 32,
   "id": "03c5cbb5-1802-48f5-8fe5-51b858298c33",
   "metadata": {},
   "outputs": [],
   "source": [
    "from io import StringIO  # extract\n",
    "import requests \n",
    "from bs4 import BeautifulSoup\n",
    "import pandas as pd # transformation\n",
    "import sqlite3 #load\n",
    "from datetime import datetime\n",
    "from icecream import ic"
   ]
  },
  {
   "cell_type": "code",
   "execution_count": 22,
   "id": "31b7c9ca-83dd-4fb8-b864-789febe98ece",
   "metadata": {},
   "outputs": [
    {
     "name": "stdout",
     "output_type": "stream",
     "text": [
      "Requirement already satisfied: icecream in c:\\users\\m.r computers\\anaconda3\\lib\\site-packages (2.1.3)Note: you may need to restart the kernel to use updated packages.\n",
      "\n",
      "Requirement already satisfied: colorama>=0.3.9 in c:\\users\\m.r computers\\anaconda3\\lib\\site-packages (from icecream) (0.4.6)\n",
      "Requirement already satisfied: pygments>=2.2.0 in c:\\users\\m.r computers\\anaconda3\\lib\\site-packages (from icecream) (2.15.1)\n",
      "Requirement already satisfied: executing>=0.3.1 in c:\\users\\m.r computers\\anaconda3\\lib\\site-packages (from icecream) (0.8.3)\n",
      "Requirement already satisfied: asttokens>=2.0.1 in c:\\users\\m.r computers\\anaconda3\\lib\\site-packages (from icecream) (2.0.5)\n",
      "Requirement already satisfied: six in c:\\users\\m.r computers\\anaconda3\\lib\\site-packages (from asttokens>=2.0.1->icecream) (1.16.0)\n"
     ]
    }
   ],
   "source": [
    "pip install icecream"
   ]
  },
  {
   "cell_type": "code",
   "execution_count": 23,
   "id": "103477e3-95c0-45d2-8013-d09a8524ac0d",
   "metadata": {},
   "outputs": [],
   "source": [
    "from icecream import ic"
   ]
  },
  {
   "cell_type": "code",
   "execution_count": 24,
   "id": "958fcaaa-2c3b-40b3-8918-96b128208b2c",
   "metadata": {},
   "outputs": [
    {
     "name": "stdout",
     "output_type": "stream",
     "text": [
      "190\n",
      "270\n",
      "166.66666666666666\n",
      "190\n",
      "270\n",
      "166.66666666666666\n",
      "190\n",
      "270\n",
      "166.66666666666666\n",
      "190\n",
      "270\n",
      "166.66666666666666\n"
     ]
    }
   ],
   "source": [
    "for i in range(1,5):\n",
    "    a = 200\n",
    "    b = 250\n",
    "    c = 300\n",
    "    ans = a*b/c\n",
    "    a-= 10\n",
    "    b+= 20\n",
    "    print(a)\n",
    "    print(b)\n",
    "    print(ans)"
   ]
  },
  {
   "cell_type": "code",
   "execution_count": 25,
   "id": "7e847a10-e860-4dbb-9e30-e65af68da699",
   "metadata": {},
   "outputs": [
    {
     "name": "stderr",
     "output_type": "stream",
     "text": [
      "ic| Error: Failed to access the underlying source code for analysis. Was ic() invoked in a REPL (e.g. from the command line), a frozen application (e.g. packaged with PyInstaller), or did the underlying source code change during execution?\n",
      "ic| Error: Failed to access the underlying source code for analysis. Was ic() invoked in a REPL (e.g. from the command line), a frozen application (e.g. packaged with PyInstaller), or did the underlying source code change during execution?\n",
      "ic| Error: Failed to access the underlying source code for analysis. Was ic() invoked in a REPL (e.g. from the command line), a frozen application (e.g. packaged with PyInstaller), or did the underlying source code change during execution?\n",
      "ic| Error: Failed to access the underlying source code for analysis. Was ic() invoked in a REPL (e.g. from the command line), a frozen application (e.g. packaged with PyInstaller), or did the underlying source code change during execution?\n"
     ]
    }
   ],
   "source": [
    "for i in range(1,5):\n",
    "    ans  = ic(a)*(b)/(c)\n",
    "    a-=10\n",
    "    b+=20\n"
   ]
  },
  {
   "cell_type": "markdown",
   "id": "d67327d1-ffe0-4bcd-92ec-1714a5fbe76a",
   "metadata": {},
   "source": [
    "# Step 0"
   ]
  },
  {
   "cell_type": "code",
   "execution_count": 52,
   "id": "869c626f-5eb7-4bce-8103-90a24e201ec7",
   "metadata": {},
   "outputs": [],
   "source": [
    "# step 0 \n",
    "def log_progress(message):\n",
    "    with open ('./code_;og.txt', 'a') as f:\n",
    "        f.write(f\" {datetime.now()}: {message}.\\n\")"
   ]
  },
  {
   "cell_type": "markdown",
   "id": "4a837ed3-ba2d-41db-98d1-dfb461bf1160",
   "metadata": {},
   "source": [
    "# step1 "
   ]
  },
  {
   "cell_type": "code",
   "execution_count": 53,
   "id": "deddaae7-1316-4189-a532-6d9a4ae12344",
   "metadata": {},
   "outputs": [],
   "source": [
    "def extract(url, table_att):\n",
    "    soup = requests.get(url).text\n",
    "    web = BeautifulSoup(soup, 'html.parser')\n",
    "    table = web.find('span', string=table_att).find_next('table')\n",
    "    df = pd.read_html(StringIO(str(table)))[0]\n",
    "\n",
    "    log_progress('Data Extracdted Succesfully from the wikipedia')\n",
    "\n",
    "    return df"
   ]
  },
  {
   "cell_type": "markdown",
   "id": "d392946d-a98d-40e3-8abd-533a66ffeece",
   "metadata": {},
   "source": [
    "# Step 2"
   ]
  },
  {
   "cell_type": "code",
   "execution_count": 54,
   "id": "718b19df-6448-4a4b-9c77-8d430e5cb39a",
   "metadata": {},
   "outputs": [],
   "source": [
    "def transformation(df, csv_path):\n",
    "    exchange_rate = pd.read_csv(csv_path, index_col = 0).to_dict()['Rate']\n",
    "\n",
    "    df['MC_GBP_Billion'] = round(df['Market cap (US$ billion)']*exchange_rate['GBP'],2)\n",
    "    df['MC_EUR_Billion'] = round(df['Market cap (US$ billion)']*exchange_rate['EUR'],2)\n",
    "    df['MC_INR_Billion'] = round(df['Market cap (US$ billion)']*exchange_rate['INR'],2)\n",
    "\n",
    "    print(df['MC_EUR_Billion'][4])\n",
    "\n",
    "    log_progress('Data Transformation done now, Step 2 Complete.')\n",
    "    return df\n",
    "    "
   ]
  },
  {
   "cell_type": "markdown",
   "id": "5e55f01d-74c7-49fd-aa4a-f8ab16c85bc9",
   "metadata": {},
   "source": [
    "# Step 3"
   ]
  },
  {
   "cell_type": "code",
   "execution_count": 55,
   "id": "327b9fc6-137b-4140-a4f7-84d33b1d5f15",
   "metadata": {},
   "outputs": [],
   "source": [
    "def load_to_csv(df, out_path):\n",
    "    df.to_csv(out_path)\n",
    "\n",
    "    log_progress('data loaded into the csv file')"
   ]
  },
  {
   "cell_type": "code",
   "execution_count": 56,
   "id": "960a8d7a-c5e7-4c44-94bd-9eb206355821",
   "metadata": {},
   "outputs": [],
   "source": [
    "# step 3\n",
    "def load_to_db(df, sql_conn, tn):\n",
    "    df.to_sql(tn, sql_conn, if_exists='replace', index=False)\n",
    "\n",
    "    log_progress('Data loaded into the SQLITE database')"
   ]
  },
  {
   "cell_type": "code",
   "execution_count": 57,
   "id": "e2317517-81b7-44fe-a5a1-4dfd60a02537",
   "metadata": {},
   "outputs": [
    {
     "name": "stdout",
     "output_type": "stream",
     "text": [
      "   Rank                                Bank name  Market cap (US$ billion)\n",
      "0     1                           JPMorgan Chase                    432.92\n",
      "1     2                          Bank of America                    231.52\n",
      "2     3  Industrial and Commercial Bank of China                    194.56\n",
      "3     4               Agricultural Bank of China                    160.68\n",
      "4     5                                HDFC Bank                    157.91\n",
      "5     6                              Wells Fargo                    155.87\n",
      "6     7                        HSBC Holdings PLC                    148.90\n",
      "7     8                           Morgan Stanley                    140.83\n",
      "8     9                  China Construction Bank                    139.82\n",
      "9    10                            Bank of China                    136.81\n"
     ]
    }
   ],
   "source": [
    "if __name__ == '__main__':\n",
    "    url = 'https://web.archive.org/web/20230908091635/https://en.wikipedia.org/wiki/List_of_largest_banks'\n",
    "    output_csv_path = './Largest_banks_data.csv'\n",
    "    database_name = 'Banks.db'\n",
    "    table_name = 'Largest_banks'\n",
    "    \n",
    "    log_progress('Preliminaries complete. Initiating ETL process')\n",
    "\n",
    "    print(extract(url, 'By market capitalization'))"
   ]
  },
  {
   "cell_type": "code",
   "execution_count": 58,
   "id": "e6d35668-5f53-4095-bfea-1128972ff818",
   "metadata": {},
   "outputs": [
    {
     "name": "stdout",
     "output_type": "stream",
     "text": [
      "   Rank                                Bank name  Market cap (US$ billion)\n",
      "0     1                           JPMorgan Chase                    432.92\n",
      "1     2                          Bank of America                    231.52\n",
      "2     3  Industrial and Commercial Bank of China                    194.56\n",
      "3     4               Agricultural Bank of China                    160.68\n",
      "4     5                                HDFC Bank                    157.91\n",
      "5     6                              Wells Fargo                    155.87\n",
      "6     7                        HSBC Holdings PLC                    148.90\n",
      "7     8                           Morgan Stanley                    140.83\n",
      "8     9                  China Construction Bank                    139.82\n",
      "9    10                            Bank of China                    136.81\n",
      "146.86\n",
      "   Rank                                Bank name  Market cap (US$ billion)  \\\n",
      "0     1                           JPMorgan Chase                    432.92   \n",
      "1     2                          Bank of America                    231.52   \n",
      "2     3  Industrial and Commercial Bank of China                    194.56   \n",
      "3     4               Agricultural Bank of China                    160.68   \n",
      "4     5                                HDFC Bank                    157.91   \n",
      "5     6                              Wells Fargo                    155.87   \n",
      "6     7                        HSBC Holdings PLC                    148.90   \n",
      "7     8                           Morgan Stanley                    140.83   \n",
      "8     9                  China Construction Bank                    139.82   \n",
      "9    10                            Bank of China                    136.81   \n",
      "\n",
      "   MC_GBP_Billion  MC_EUR_Billion  MC_INR_Billion  \n",
      "0          346.34          402.62        35910.71  \n",
      "1          185.22          215.31        19204.58  \n",
      "2          155.65          180.94        16138.75  \n",
      "3          128.54          149.43        13328.41  \n",
      "4          126.33          146.86        13098.63  \n",
      "5          124.70          144.96        12929.42  \n",
      "6          119.12          138.48        12351.26  \n",
      "7          112.66          130.97        11681.85  \n",
      "8          111.86          130.03        11598.07  \n",
      "9          109.45          127.23        11348.39  \n"
     ]
    }
   ],
   "source": [
    "if __name__ == '__main__':\n",
    "    url = 'https://web.archive.org/web/20230908091635/https://en.wikipedia.org/wiki/List_of_largest_banks'\n",
    "    output_csv_path = './Largest_banks_data.csv'\n",
    "    database_name = 'Banks.db'\n",
    "    table_name = 'Largest_banks'\n",
    "    \n",
    "    log_progress('Preliminaries complete. Initiating ETL process')\n",
    "\n",
    "    df=(extract(url, 'By market capitalization'))\n",
    "    log_progress('Extraction completeed')\n",
    "    print(df)\n",
    "    \n",
    "    df = transformation(df, './input/exchange_rate.csv')\n",
    "    log_progress('Data Transformed sucessfully')\n",
    "    print(df)"
   ]
  },
  {
   "cell_type": "code",
   "execution_count": 60,
   "id": "81c2f7a7-bd07-4f74-a08f-bce183eeb14a",
   "metadata": {},
   "outputs": [
    {
     "name": "stdout",
     "output_type": "stream",
     "text": [
      "   Rank                                Bank name  Market cap (US$ billion)\n",
      "0     1                           JPMorgan Chase                    432.92\n",
      "1     2                          Bank of America                    231.52\n",
      "2     3  Industrial and Commercial Bank of China                    194.56\n",
      "3     4               Agricultural Bank of China                    160.68\n",
      "4     5                                HDFC Bank                    157.91\n",
      "5     6                              Wells Fargo                    155.87\n",
      "6     7                        HSBC Holdings PLC                    148.90\n",
      "7     8                           Morgan Stanley                    140.83\n",
      "8     9                  China Construction Bank                    139.82\n",
      "9    10                            Bank of China                    136.81\n",
      "146.86\n",
      "   Rank                                Bank name  Market cap (US$ billion)  \\\n",
      "0     1                           JPMorgan Chase                    432.92   \n",
      "1     2                          Bank of America                    231.52   \n",
      "2     3  Industrial and Commercial Bank of China                    194.56   \n",
      "3     4               Agricultural Bank of China                    160.68   \n",
      "4     5                                HDFC Bank                    157.91   \n",
      "5     6                              Wells Fargo                    155.87   \n",
      "6     7                        HSBC Holdings PLC                    148.90   \n",
      "7     8                           Morgan Stanley                    140.83   \n",
      "8     9                  China Construction Bank                    139.82   \n",
      "9    10                            Bank of China                    136.81   \n",
      "\n",
      "   MC_GBP_Billion  MC_EUR_Billion  MC_INR_Billion  \n",
      "0          346.34          402.62        35910.71  \n",
      "1          185.22          215.31        19204.58  \n",
      "2          155.65          180.94        16138.75  \n",
      "3          128.54          149.43        13328.41  \n",
      "4          126.33          146.86        13098.63  \n",
      "5          124.70          144.96        12929.42  \n",
      "6          119.12          138.48        12351.26  \n",
      "7          112.66          130.97        11681.85  \n",
      "8          111.86          130.03        11598.07  \n",
      "9          109.45          127.23        11348.39  \n"
     ]
    }
   ],
   "source": [
    "if __name__ == '__main__':\n",
    "    url = 'https://web.archive.org/web/20230908091635/https://en.wikipedia.org/wiki/List_of_largest_banks'\n",
    "    output_csv_path = './Largest_banks_data.csv'\n",
    "    database_name = 'Banks.db'\n",
    "    table_name = 'Largest_banks'\n",
    "    \n",
    "    log_progress('Preliminaries complete. Initiating ETL process')\n",
    "\n",
    "    df=(extract(url, 'By market capitalization'))\n",
    "    log_progress('Extraction completeed')\n",
    "    print(df)\n",
    "    \n",
    "    df = transformation(df, './input/exchange_rate.csv')\n",
    "    log_progress('Data Transformed sucessfully')\n",
    "    print(df)\n",
    "\n",
    "    load_to_csv(df, output_csv_path)\n",
    "    log_progress('DataFrame has beenn loaded into csv')\n",
    "\n",
    "    with sqlite3.connect(database_name) as conn:\n",
    "        load_to_db(df, conn, table_name)\n",
    "    log_progress('DataFrame has been uploaded into the SQlite Database Sucessfully')"
   ]
  },
  {
   "cell_type": "code",
   "execution_count": null,
   "id": "764b8167-592a-4151-84dc-a6027f5423a1",
   "metadata": {},
   "outputs": [],
   "source": [
    "# Hi LinkedIn Community,\n",
    "Sharing my project in Data Engineering - Building a Serverless ETL Application on AWS - https://lnkd.in/gaN-BS9V\n",
    "\n",
    "A loads of thanks to David Freitag for teaching such a wonderful project-based course and all the guidance without whom this project wouldn't be successful.\n",
    "\n",
    "Below is the LinkedIn Article where I have shared my learnings through the course and building end-to-end Serverless Data Engineering ETL Application project.\n"
   ]
  },
  {
   "cell_type": "code",
   "execution_count": null,
   "id": "f7d3e75b-dada-45e6-8dea-121a7668a868",
   "metadata": {},
   "outputs": [],
   "source": []
  }
 ],
 "metadata": {
  "kernelspec": {
   "display_name": "Python 3 (ipykernel)",
   "language": "python",
   "name": "python3"
  },
  "language_info": {
   "codemirror_mode": {
    "name": "ipython",
    "version": 3
   },
   "file_extension": ".py",
   "mimetype": "text/x-python",
   "name": "python",
   "nbconvert_exporter": "python",
   "pygments_lexer": "ipython3",
   "version": "3.11.7"
  }
 },
 "nbformat": 4,
 "nbformat_minor": 5
}
